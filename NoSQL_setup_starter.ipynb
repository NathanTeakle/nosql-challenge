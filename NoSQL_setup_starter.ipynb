{
 "cells": [
  {
   "cell_type": "markdown",
   "id": "9a57c4c6",
   "metadata": {},
   "source": [
    "# Eat Safe, Love"
   ]
  },
  {
   "cell_type": "markdown",
   "id": "064ef857",
   "metadata": {},
   "source": [
    "## Part 1: Database and Jupyter Notebook Set Up"
   ]
  },
  {
   "cell_type": "markdown",
   "id": "664e3c1f",
   "metadata": {},
   "source": [
    "Import the data provided in the `establishments.json` file from your Terminal. Name the database `uk_food` and the collection `establishments`.\n",
    "\n",
    "Within this markdown cell, copy the line of text you used to import the data from your Terminal. This way, future analysts will be able to repeat your process.\n",
    "\n",
    "e.g.: Import the dataset with `YOUR IMPORT TEXT HERE'"
   ]
  },
  {
   "cell_type": "code",
   "execution_count": 1,
   "id": "108c6a1c",
   "metadata": {},
   "outputs": [],
   "source": [
    "# Import dependencies\n",
    "import json\n",
    "from pymongo import MongoClient\n",
    "from pprint import pprint\n"
   ]
  },
  {
   "cell_type": "code",
   "execution_count": 2,
   "id": "92832ce4",
   "metadata": {},
   "outputs": [
    {
     "data": {
      "text/plain": [
       "<pymongo.results.InsertManyResult at 0x1e3664e1a50>"
      ]
     },
     "execution_count": 2,
     "metadata": {},
     "output_type": "execute_result"
    }
   ],
   "source": [
    "# MongoDB server\n",
    "client = MongoClient(\"localhost\", 27017)\n",
    "databases = client.list_database_names()\n",
    "\n",
    "# Create or access the \"uk_food\" database\n",
    "db = client[\"uk_food\"]\n",
    "\n",
    "# Create or access the \"establishments\" collection\n",
    "collection = db[\"establishments\"]\n",
    "\n",
    "# Load the data from the \"establishments.json\" file\n",
    "with open(\"Resources/establishments.json\", \"r\", encoding=\"utf-8\") as f:\n",
    "    data = json.load(f)\n",
    "\n",
    "# Insert the data into the \"establishments\" collection\n",
    "collection.insert_many(data)\n"
   ]
  },
  {
   "cell_type": "code",
   "execution_count": 3,
   "id": "7f9ececa",
   "metadata": {},
   "outputs": [
    {
     "name": "stdout",
     "output_type": "stream",
     "text": [
      "The 'uk_food' database was created!\n"
     ]
    }
   ],
   "source": [
    "# confirm that our new database was created\n",
    "if \"uk_food\" in databases:\n",
    "    print(\"The 'uk_food' database was created!\")\n",
    "else:\n",
    "    print(\"The 'uk_food' database was not found.\")\n",
    "    "
   ]
  },
  {
   "cell_type": "code",
   "execution_count": 4,
   "id": "71e373c1",
   "metadata": {},
   "outputs": [],
   "source": [
    "# assign the uk_food database to a variable name\n",
    "db = client[\"uk_food\"]"
   ]
  },
  {
   "cell_type": "code",
   "execution_count": 5,
   "id": "ef1b89ed",
   "metadata": {},
   "outputs": [
    {
     "name": "stdout",
     "output_type": "stream",
     "text": [
      "['establishments']\n"
     ]
    }
   ],
   "source": [
    "# review the collections in our new database\n",
    "# Access the \"uk_food\" database\n",
    "db = client[\"uk_food\"]\n",
    "\n",
    "# List all collections in the \"uk_food\" database\n",
    "collections = db.list_collection_names()\n",
    "\n",
    "# Print the list of collections\n",
    "print(collections)\n"
   ]
  },
  {
   "cell_type": "code",
   "execution_count": 6,
   "id": "6a0d92df",
   "metadata": {},
   "outputs": [
    {
     "name": "stdout",
     "output_type": "stream",
     "text": [
      "{'AddressLine1': 'East Cliff Pavilion',\n",
      " 'AddressLine2': 'Wear Bay Road',\n",
      " 'AddressLine3': 'Folkestone',\n",
      " 'AddressLine4': 'Kent',\n",
      " 'BusinessName': 'The Pavilion',\n",
      " 'BusinessType': 'Restaurant/Cafe/Canteen',\n",
      " 'BusinessTypeID': 1,\n",
      " 'ChangesByServerID': 0,\n",
      " 'Distance': 4591.765489457773,\n",
      " 'FHRSID': 1043695,\n",
      " 'LocalAuthorityBusinessID': 'PI/000073616',\n",
      " 'LocalAuthorityCode': '188',\n",
      " 'LocalAuthorityEmailAddress': 'foodteam@folkestone-hythe.gov.uk',\n",
      " 'LocalAuthorityName': 'Folkestone and Hythe',\n",
      " 'LocalAuthorityWebSite': 'http://www.folkestone-hythe.gov.uk',\n",
      " 'NewRatingPending': False,\n",
      " 'Phone': '',\n",
      " 'PostCode': 'CT19 6BL',\n",
      " 'RatingDate': '2018-04-04T00:00:00',\n",
      " 'RatingKey': 'fhrs_5_en-gb',\n",
      " 'RatingValue': '5',\n",
      " 'RightToReply': '',\n",
      " 'SchemeType': 'FHRS',\n",
      " '_id': ObjectId('64929417af6298e20780d31c'),\n",
      " 'geocode': {'latitude': '51.083812', 'longitude': '1.195625'},\n",
      " 'links': [{'href': 'https://api.ratings.food.gov.uk/establishments/1043695',\n",
      "            'rel': 'self'}],\n",
      " 'meta': {'dataSource': None,\n",
      "          'extractDate': '0001-01-01T00:00:00',\n",
      "          'itemCount': 0,\n",
      "          'pageNumber': 0,\n",
      "          'pageSize': 0,\n",
      "          'returncode': None,\n",
      "          'totalCount': 0,\n",
      "          'totalPages': 0},\n",
      " 'scores': {'ConfidenceInManagement': 5, 'Hygiene': 5, 'Structural': 5}}\n"
     ]
    }
   ],
   "source": [
    "# review a document in the establishments collection\n",
    "# Access the \"uk_food\" database\n",
    "db = client[\"uk_food\"]\n",
    "\n",
    "# Access the \"establishments\" collection\n",
    "collection = db[\"establishments\"]\n",
    "\n",
    "# Find one document in the \"establishments\" collection\n",
    "document = collection.find_one()\n",
    "\n",
    "# Display the document using pprint\n",
    "pprint(document)"
   ]
  },
  {
   "cell_type": "code",
   "execution_count": 7,
   "id": "11c9f11b",
   "metadata": {},
   "outputs": [],
   "source": [
    "# assign the collection to a variable\n",
    "collection = db[\"establishments\"]"
   ]
  },
  {
   "cell_type": "markdown",
   "id": "d5671434",
   "metadata": {},
   "source": [
    "## Part 2: Update the Database"
   ]
  },
  {
   "cell_type": "markdown",
   "id": "314bd884",
   "metadata": {},
   "source": [
    "1. An exciting new halal restaurant just opened in Greenwich, but hasn't been rated yet. The magazine has asked you to include it in your analysis. Add the following restaurant \"Penang Flavours\" to the database."
   ]
  },
  {
   "cell_type": "code",
   "execution_count": 8,
   "id": "c2da7648",
   "metadata": {},
   "outputs": [],
   "source": [
    "# Create a dictionary for the new restaurant data\n",
    "new_restaurant = {\n",
    "        \"BusinessName\": \"Penang Flavours\"\n",
    "}"
   ]
  },
  {
   "cell_type": "code",
   "execution_count": 9,
   "id": "a6e5cece",
   "metadata": {},
   "outputs": [],
   "source": [
    "# Insert the new restaurant into the collection\n",
    "collection = db[\"establishments\"]\n",
    "result = collection.insert_one(new_restaurant)\n"
   ]
  },
  {
   "cell_type": "code",
   "execution_count": 10,
   "id": "63bb10f9",
   "metadata": {},
   "outputs": [
    {
     "name": "stdout",
     "output_type": "stream",
     "text": [
      "The new restaurant was inserted!\n"
     ]
    }
   ],
   "source": [
    "# Check that the new restaurant was inserted\n",
    "document = collection.find_one({\"BusinessName\": \"Penang Flavours\"})\n",
    "\n",
    "# Check if a document was found\n",
    "if document:\n",
    "    print(\"The new restaurant was inserted!\")\n",
    "else:\n",
    "    print(\"The new restaurant was not found.\")\n"
   ]
  },
  {
   "cell_type": "markdown",
   "id": "0ef4395a",
   "metadata": {},
   "source": [
    "2. Find the BusinessTypeID for \"Restaurant/Cafe/Canteen\" and return only the `BusinessTypeID` and `BusinessType` fields."
   ]
  },
  {
   "cell_type": "code",
   "execution_count": 11,
   "id": "93c63829",
   "metadata": {},
   "outputs": [
    {
     "name": "stdout",
     "output_type": "stream",
     "text": [
      "BusinessTypeID: 1\n",
      "BusinessType: Restaurant/Cafe/Canteen\n"
     ]
    }
   ],
   "source": [
    "# Find the BusinessTypeID for \"Restaurant/Cafe/Canteen\" and return only the BusinessTypeID and BusinessType fields\n",
    "document = collection.find_one(\n",
    "    {\"BusinessType\": \"Restaurant/Cafe/Canteen\"},\n",
    "    {\"_id\": 0, \"BusinessTypeID\": 1, \"BusinessType\": 1}\n",
    ")\n",
    "\n",
    "# Check if a document was found\n",
    "if document:\n",
    "    # Print the BusinessTypeID and BusinessType values\n",
    "    print(f\"BusinessTypeID: {document['BusinessTypeID']}\")\n",
    "    print(f\"BusinessType: {document['BusinessType']}\")\n",
    "else:\n",
    "    print(\"No document was found.\")\n",
    "    "
   ]
  },
  {
   "cell_type": "markdown",
   "id": "4e570caf",
   "metadata": {},
   "source": [
    "3. Update the new restaurant with the `BusinessTypeID` you found."
   ]
  },
  {
   "cell_type": "code",
   "execution_count": 12,
   "id": "7f599f3d",
   "metadata": {},
   "outputs": [
    {
     "name": "stdout",
     "output_type": "stream",
     "text": [
      "Matched: 1\n",
      "Modified: 0\n"
     ]
    }
   ],
   "source": [
    "business_type_id = 12345\n",
    "\n",
    "result = collection.update_one(\n",
    "    {\"BusinessName\": \"Penang Flavours\"},\n",
    "    {\"$set\": {\"BusinessTypeID\": business_type_id}}\n",
    ")\n",
    "\n",
    "# Print the result of the update operation\n",
    "print(f\"Matched: {result.matched_count}\")\n",
    "print(f\"Modified: {result.modified_count}\")"
   ]
  },
  {
   "cell_type": "code",
   "execution_count": 13,
   "id": "a6ad16f7",
   "metadata": {},
   "outputs": [
    {
     "name": "stdout",
     "output_type": "stream",
     "text": [
      "BusinessTypeID: 1\n"
     ]
    }
   ],
   "source": [
    "# Confirm that the new restaurant was updated\n",
    "if document:\n",
    "    # Print the BusinessTypeID value of the new restaurant\n",
    "    print(f\"BusinessTypeID: {document['BusinessTypeID']}\")\n",
    "else:\n",
    "    print(\"The new restaurant was not found.\")\n",
    "    "
   ]
  },
  {
   "cell_type": "markdown",
   "id": "67281254",
   "metadata": {},
   "source": [
    "4. The magazine is not interested in any establishments in Dover, so check how many documents contain the Dover Local Authority. Then, remove any establishments within the Dover Local Authority from the database, and check the number of documents to ensure they were deleted."
   ]
  },
  {
   "cell_type": "code",
   "execution_count": 14,
   "id": "768474a6",
   "metadata": {},
   "outputs": [
    {
     "name": "stdout",
     "output_type": "stream",
     "text": [
      "Number of documents with LocalAuthorityName set to 'Dover': 994\n"
     ]
    }
   ],
   "source": [
    "# Find how many documents have LocalAuthorityName as \"Dover\"\n",
    "count = collection.count_documents({\"LocalAuthorityName\": \"Dover\"})\n",
    "\n",
    "# Print the results\n",
    "print(f\"Number of documents with LocalAuthorityName set to 'Dover': {count}\")\n"
   ]
  },
  {
   "cell_type": "code",
   "execution_count": 15,
   "id": "a11d5f1b",
   "metadata": {},
   "outputs": [
    {
     "name": "stdout",
     "output_type": "stream",
     "text": [
      "Deleted: 994\n"
     ]
    }
   ],
   "source": [
    "# Delete all documents where LocalAuthorityName is \"Dover\"\n",
    "result = collection.delete_many({\"LocalAuthorityName\": \"Dover\"})\n",
    "\n",
    "# Print the results\n",
    "print(f\"Deleted: {result.deleted_count}\")\n"
   ]
  },
  {
   "cell_type": "code",
   "execution_count": 16,
   "id": "2a51aba0",
   "metadata": {},
   "outputs": [
    {
     "name": "stdout",
     "output_type": "stream",
     "text": [
      "There are no remaining documents with LocalAuthorityName set to 'Dover'.\n"
     ]
    }
   ],
   "source": [
    "# Check if any remaining documents include Dover\n",
    "count = collection.count_documents({\"LocalAuthorityName\": \"Dover\"})\n",
    "\n",
    "# Check if any documents were found\n",
    "if count > 0:\n",
    "    print(f\"There are {count} remaining documents with LocalAuthorityName set to 'Dover'.\")\n",
    "else:\n",
    "    print(\"There are no remaining documents with LocalAuthorityName set to 'Dover'.\")\n"
   ]
  },
  {
   "cell_type": "code",
   "execution_count": 17,
   "id": "8c356f7b",
   "metadata": {},
   "outputs": [
    {
     "name": "stdout",
     "output_type": "stream",
     "text": [
      "There are remaining documents in the 'establishments' collection.\n"
     ]
    }
   ],
   "source": [
    "# Check that other documents remain with 'find_one'\n",
    "document = collection.find_one()\n",
    "\n",
    "# Check if a document was found\n",
    "if document:\n",
    "    print(\"There are remaining documents in the 'establishments' collection.\")\n",
    "else:\n",
    "    print(\"There are no remaining documents in the 'establishments' collection.\")\n"
   ]
  },
  {
   "cell_type": "markdown",
   "id": "e9f1662d",
   "metadata": {},
   "source": [
    "5. Some of the number values are stored as strings, when they should be stored as numbers. Use `update_many` to convert `latitude` and `longitude` to decimal numbers."
   ]
  },
  {
   "cell_type": "code",
   "execution_count": 18,
   "id": "fd4112ce",
   "metadata": {},
   "outputs": [],
   "source": [
    "# Change the data type from String to Decimal for longitude\n",
    "documents = collection.find({\"Longitude\": {\"$type\": \"string\"}})\n",
    "\n",
    "# Iterate over the documents\n",
    "for document in documents:\n",
    "    # Convert Latitude to a decimal number\n",
    "    longitude = float(document[\"Longitude\"])\n",
    "\n",
    "    # Update the document with the converted value\n",
    "    collection.update_one(\n",
    "        {\"_id\": document[\"_id\"]},\n",
    "        {\"$set\": {\"Longitude\": longitude}}\n",
    "    )\n"
   ]
  },
  {
   "cell_type": "code",
   "execution_count": 19,
   "id": "08dd7c72",
   "metadata": {},
   "outputs": [],
   "source": [
    "# Change the data type from String to Decimal for latitude\n",
    "documents = collection.find({\"Latitude\": {\"$type\": \"string\"}})\n",
    "\n",
    "# Iterate over the documents\n",
    "for document in documents:\n",
    "    # Convert Latitude to a decimal number\n",
    "    latitude = float(document[\"Latitude\"])\n",
    "\n",
    "    # Update the document with the converted value\n",
    "    collection.update_one(\n",
    "        {\"_id\": document[\"_id\"]},\n",
    "        {\"$set\": {\"Latitude\": latitude}}\n",
    "    )\n"
   ]
  },
  {
   "cell_type": "code",
   "execution_count": 20,
   "id": "0deacaf9",
   "metadata": {},
   "outputs": [
    {
     "name": "stdout",
     "output_type": "stream",
     "text": [
      "Number of documents with Longitude as a string: 0\n",
      "Number of documents with Latitude as a string: 0\n"
     ]
    }
   ],
   "source": [
    "# Check that the coordinates are now numbers\n",
    "# Find documents where Longitude is still a string\n",
    "longitude_count = collection.count_documents({\"Longitude\": {\"$type\": \"string\"}})\n",
    "\n",
    "# Find documents where Latitude is still a string\n",
    "latitude_count = collection.count_documents({\"Latitude\": {\"$type\": \"string\"}})\n",
    "\n",
    "# Print the results\n",
    "print(f\"Number of documents with Longitude as a string: {longitude_count}\")\n",
    "print(f\"Number of documents with Latitude as a string: {latitude_count}\")\n"
   ]
  },
  {
   "cell_type": "code",
   "execution_count": null,
   "id": "31918d56",
   "metadata": {},
   "outputs": [],
   "source": []
  }
 ],
 "metadata": {
  "kernelspec": {
   "display_name": "Python 3 (ipykernel)",
   "language": "python",
   "name": "python3"
  },
  "language_info": {
   "codemirror_mode": {
    "name": "ipython",
    "version": 3
   },
   "file_extension": ".py",
   "mimetype": "text/x-python",
   "name": "python",
   "nbconvert_exporter": "python",
   "pygments_lexer": "ipython3",
   "version": "3.10.9"
  }
 },
 "nbformat": 4,
 "nbformat_minor": 5
}
